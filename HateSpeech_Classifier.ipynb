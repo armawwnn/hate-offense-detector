{
  "nbformat": 4,
  "nbformat_minor": 0,
  "metadata": {
    "colab": {
      "provenance": []
    },
    "kernelspec": {
      "name": "python3",
      "display_name": "Python 3"
    },
    "language_info": {
      "name": "python"
    }
  },
  "cells": [
    {
      "cell_type": "markdown",
      "source": [
        "##prepare data and env"
      ],
      "metadata": {
        "id": "54ScvjiYz9Vs"
      }
    },
    {
      "cell_type": "code",
      "execution_count": null,
      "metadata": {
        "id": "FQvZQmRKti0P"
      },
      "outputs": [],
      "source": [
        "# install gdown import os and gdown\n",
        "!pip install --quiet gdown\n",
        "import gdown\n",
        "import os"
      ]
    },
    {
      "cell_type": "code",
      "source": [
        "#file from my googleDrive\n",
        "\n",
        "download_url = \"https://drive.google.com/uc?export=download&id=1PEWqdEQcElfObua2x6hblkwsCNClnqFn\"\n",
        "\n"
      ],
      "metadata": {
        "id": "0RP5rsiqtwvQ"
      },
      "execution_count": null,
      "outputs": []
    },
    {
      "cell_type": "code",
      "source": [
        "#download dataset\n",
        "output_path = \"hate_speech_dataset.csv\"\n",
        "\n",
        "if not os.path.exists(output_path):\n",
        "    print(\"Downloading dataset...\")\n",
        "    gdown.download(download_url, output_path, quiet=False)\n",
        "else:\n",
        "    print(f\"{output_path} already exists, skipping download.\")"
      ],
      "metadata": {
        "colab": {
          "base_uri": "https://localhost:8080/"
        },
        "id": "TD8LpLLrujbE",
        "outputId": "8ad97c66-9123-4d5a-876b-e33f4ee3b884"
      },
      "execution_count": null,
      "outputs": [
        {
          "output_type": "stream",
          "name": "stdout",
          "text": [
            "hate_speech_dataset.csv already exists, skipping download.\n"
          ]
        }
      ]
    },
    {
      "cell_type": "code",
      "source": [
        "# 1) Imports\n",
        "import pandas as pd\n",
        "import numpy as np\n",
        "import re\n",
        "from sklearn.model_selection import train_test_split\n",
        "from sklearn.feature_extraction.text import TfidfVectorizer\n",
        "from sklearn.decomposition import TruncatedSVD\n",
        "from sklearn.preprocessing import StandardScaler\n",
        "from sklearn.metrics import classification_report, confusion_matrix\n",
        "from numpy.linalg import inv, det\n",
        "from sklearn.metrics import classification_report, confusion_matrix\n",
        "import numpy as np\n",
        "from sklearn.model_selection import KFold\n",
        "from numpy.linalg import inv, det\n",
        "\n",
        "\n",
        "\n"
      ],
      "metadata": {
        "id": "ONCrV27hvu_V"
      },
      "execution_count": null,
      "outputs": []
    },
    {
      "cell_type": "code",
      "source": [
        "# 2) Load your CSV (adjust path if needed)\n",
        "df = pd.read_csv('/content/hate_speech_dataset.csv')\n",
        "\n",
        "# 3) Text cleaning\n",
        "def clean_text(text):\n",
        "    text = text.lower()\n",
        "    text = re.sub(r'http\\S+','', text)\n",
        "    text = re.sub(r'@\\w+','', text)\n",
        "    text = re.sub(r'[^a-z\\s]','', text)\n",
        "    return re.sub(r'\\s+',' ', text).strip()\n",
        "df['clean_tweet'] = df['tweet'].apply(clean_text)\n"
      ],
      "metadata": {
        "id": "Ccyocog71phl"
      },
      "execution_count": null,
      "outputs": []
    },
    {
      "cell_type": "code",
      "source": [
        "df.info()"
      ],
      "metadata": {
        "colab": {
          "base_uri": "https://localhost:8080/"
        },
        "id": "eEsJHTHH3YZe",
        "outputId": "76d4db4e-4342-4f8d-86f8-05ed8182c93c"
      },
      "execution_count": null,
      "outputs": [
        {
          "output_type": "stream",
          "name": "stdout",
          "text": [
            "<class 'pandas.core.frame.DataFrame'>\n",
            "RangeIndex: 24783 entries, 0 to 24782\n",
            "Data columns (total 8 columns):\n",
            " #   Column              Non-Null Count  Dtype \n",
            "---  ------              --------------  ----- \n",
            " 0   Unnamed: 0          24783 non-null  int64 \n",
            " 1   count               24783 non-null  int64 \n",
            " 2   hate_speech         24783 non-null  int64 \n",
            " 3   offensive_language  24783 non-null  int64 \n",
            " 4   neither             24783 non-null  int64 \n",
            " 5   class               24783 non-null  int64 \n",
            " 6   tweet               24783 non-null  object\n",
            " 7   clean_tweet         24783 non-null  object\n",
            "dtypes: int64(6), object(2)\n",
            "memory usage: 1.5+ MB\n"
          ]
        }
      ]
    },
    {
      "cell_type": "code",
      "source": [
        "# tweet after clean it\n",
        "print(df['clean_tweet'][0])\n",
        "print('\\n')\n",
        "print(df['tweet'][0])\n"
      ],
      "metadata": {
        "colab": {
          "base_uri": "https://localhost:8080/"
        },
        "id": "Ax4xOVw51tbD",
        "outputId": "dbb87d32-1ab0-4996-d14c-c17eea18ac1d"
      },
      "execution_count": null,
      "outputs": [
        {
          "output_type": "stream",
          "name": "stdout",
          "text": [
            "rt as a woman you shouldnt complain about cleaning up your house amp as a man you should always take the trash out\n",
            "\n",
            "\n",
            "!!! RT @mayasolovely: As a woman you shouldn't complain about cleaning up your house. &amp; as a man you should always take the trash out...\n"
          ]
        }
      ]
    },
    {
      "cell_type": "code",
      "source": [
        "# TF‑IDF → SVD\n",
        "vectorizer = TfidfVectorizer(max_features=5000, stop_words='english')\n",
        "X_text = vectorizer.fit_transform(df['clean_tweet'])\n",
        "svd = TruncatedSVD(n_components=100, random_state=42)\n",
        "X_svd = svd.fit_transform(X_text)\n"
      ],
      "metadata": {
        "id": "OlUrgZZD2iFO"
      },
      "execution_count": null,
      "outputs": []
    },
    {
      "cell_type": "code",
      "source": [
        "#vectorize each tweet to 5000 numeric values\n",
        "first_dense = X_text[0].toarray()[0]\n",
        "print(first_dense)\n",
        "print(\"Length:\", len(first_dense))"
      ],
      "metadata": {
        "colab": {
          "base_uri": "https://localhost:8080/"
        },
        "id": "w5yxjkQz5c0j",
        "outputId": "2a7f5656-b60c-4cd7-edfb-daf99118eb12"
      },
      "execution_count": null,
      "outputs": [
        {
          "output_type": "stream",
          "name": "stdout",
          "text": [
            "[0. 0. 0. ... 0. 0. 0.]\n",
            "Length: 5000\n"
          ]
        }
      ]
    },
    {
      "cell_type": "code",
      "source": [
        "# tweet after convert it to vector 100‑dim\n",
        "print( X_svd[0])\n",
        "print(len( X_svd[0]))\n",
        "print(\"First row shape:\", X_svd[0].shape)  # (100,)\n"
      ],
      "metadata": {
        "colab": {
          "base_uri": "https://localhost:8080/"
        },
        "id": "0Tc9EztU2lJt",
        "outputId": "1bd9821e-6c3b-4cf0-ebb2-76c53176f51e"
      },
      "execution_count": null,
      "outputs": [
        {
          "output_type": "stream",
          "name": "stdout",
          "text": [
            "[ 7.76101203e-02 -8.83850407e-02 -1.25225493e-02  5.32437488e-03\n",
            " -2.17482566e-04  1.38105613e-01  1.59359851e-01 -7.82194907e-02\n",
            " -2.74549996e-02 -4.46831829e-02  1.96372338e-02 -1.95987852e-02\n",
            "  1.69065802e-03 -1.43113855e-02  1.59393477e-02 -1.27941950e-03\n",
            " -5.58998941e-03 -2.17503459e-03  2.91029355e-03  7.64583858e-03\n",
            " -7.92581839e-03 -1.08875597e-02  3.23460051e-02  2.25406530e-02\n",
            "  1.06897993e-03  3.79787719e-02  2.33683538e-02  2.06057424e-02\n",
            " -4.63405126e-02 -7.81011920e-02 -1.03031699e-01 -1.08787912e-01\n",
            " -9.82430076e-02 -7.13745475e-03 -4.88009143e-02  8.07427496e-02\n",
            " -2.15967546e-02  7.54758881e-03 -8.91092170e-03 -6.82270148e-03\n",
            "  4.12119553e-02  5.20178260e-02 -1.82944535e-02 -1.38883888e-02\n",
            " -1.33419890e-02 -7.96773538e-02  8.70166140e-02 -1.06420549e-01\n",
            " -3.93430129e-03  1.31711347e-01 -7.77887143e-02  5.77665831e-02\n",
            " -1.85333831e-02 -5.51399227e-02 -3.00678362e-02  3.43662287e-02\n",
            " -8.56270021e-03  5.10854695e-03 -2.74071712e-02 -8.29218253e-03\n",
            " -5.66514992e-02 -1.31623043e-02 -1.12558994e-02  4.87490741e-03\n",
            " -7.26994990e-03 -2.64276771e-02  1.91739111e-02 -1.46735232e-02\n",
            "  1.82972924e-03 -1.79262577e-02 -8.50036855e-03  5.27489168e-03\n",
            " -8.75852212e-03 -5.00155279e-04  1.55516122e-02 -3.41761326e-03\n",
            "  1.33759674e-02  3.29740434e-03  5.35926178e-03 -3.25300585e-03\n",
            "  1.21177192e-04 -5.25691040e-03  6.86323219e-03  6.54742987e-03\n",
            " -1.35983396e-03 -1.59224268e-02  6.24010587e-03 -9.77902801e-03\n",
            " -7.43993755e-03 -8.32118835e-03  1.67150872e-02  2.66646745e-03\n",
            "  9.15030164e-03 -4.39747466e-03  1.75964025e-03 -3.02547634e-03\n",
            "  1.56769407e-02 -1.75510911e-02 -3.80351335e-03  1.47982695e-03]\n",
            "100\n",
            "First row shape: (100,)\n"
          ]
        }
      ]
    },
    {
      "cell_type": "code",
      "source": [
        "\n",
        "X = X_svd\n",
        "y = df['class'].values"
      ],
      "metadata": {
        "id": "V99cm6jm80lT"
      },
      "execution_count": null,
      "outputs": []
    },
    {
      "cell_type": "code",
      "source": [
        "print(X[0])\n",
        "print(y[0])"
      ],
      "metadata": {
        "colab": {
          "base_uri": "https://localhost:8080/"
        },
        "id": "U2BqMM7f84CH",
        "outputId": "dbf40e8b-77fa-4902-8671-5fab7e8f7c65"
      },
      "execution_count": null,
      "outputs": [
        {
          "output_type": "stream",
          "name": "stdout",
          "text": [
            "[ 7.76101203e-02 -8.83850407e-02 -1.25225493e-02  5.32437488e-03\n",
            " -2.17482566e-04  1.38105613e-01  1.59359851e-01 -7.82194907e-02\n",
            " -2.74549996e-02 -4.46831829e-02  1.96372338e-02 -1.95987852e-02\n",
            "  1.69065802e-03 -1.43113855e-02  1.59393477e-02 -1.27941950e-03\n",
            " -5.58998941e-03 -2.17503459e-03  2.91029355e-03  7.64583858e-03\n",
            " -7.92581839e-03 -1.08875597e-02  3.23460051e-02  2.25406530e-02\n",
            "  1.06897993e-03  3.79787719e-02  2.33683538e-02  2.06057424e-02\n",
            " -4.63405126e-02 -7.81011920e-02 -1.03031699e-01 -1.08787912e-01\n",
            " -9.82430076e-02 -7.13745475e-03 -4.88009143e-02  8.07427496e-02\n",
            " -2.15967546e-02  7.54758881e-03 -8.91092170e-03 -6.82270148e-03\n",
            "  4.12119553e-02  5.20178260e-02 -1.82944535e-02 -1.38883888e-02\n",
            " -1.33419890e-02 -7.96773538e-02  8.70166140e-02 -1.06420549e-01\n",
            " -3.93430129e-03  1.31711347e-01 -7.77887143e-02  5.77665831e-02\n",
            " -1.85333831e-02 -5.51399227e-02 -3.00678362e-02  3.43662287e-02\n",
            " -8.56270021e-03  5.10854695e-03 -2.74071712e-02 -8.29218253e-03\n",
            " -5.66514992e-02 -1.31623043e-02 -1.12558994e-02  4.87490741e-03\n",
            " -7.26994990e-03 -2.64276771e-02  1.91739111e-02 -1.46735232e-02\n",
            "  1.82972924e-03 -1.79262577e-02 -8.50036855e-03  5.27489168e-03\n",
            " -8.75852212e-03 -5.00155279e-04  1.55516122e-02 -3.41761326e-03\n",
            "  1.33759674e-02  3.29740434e-03  5.35926178e-03 -3.25300585e-03\n",
            "  1.21177192e-04 -5.25691040e-03  6.86323219e-03  6.54742987e-03\n",
            " -1.35983396e-03 -1.59224268e-02  6.24010587e-03 -9.77902801e-03\n",
            " -7.43993755e-03 -8.32118835e-03  1.67150872e-02  2.66646745e-03\n",
            "  9.15030164e-03 -4.39747466e-03  1.75964025e-03 -3.02547634e-03\n",
            "  1.56769407e-02 -1.75510911e-02 -3.80351335e-03  1.47982695e-03]\n",
            "2\n"
          ]
        }
      ]
    },
    {
      "cell_type": "code",
      "source": [
        "\n",
        "# Train/test split\n",
        "X_train, X_test, y_train, y_test = train_test_split(\n",
        "    X, y,\n",
        "    test_size=0.2,\n",
        "    random_state=42,\n",
        "    stratify=y\n",
        ")\n"
      ],
      "metadata": {
        "id": "XFm7K-SD_Up9"
      },
      "execution_count": null,
      "outputs": []
    },
    {
      "cell_type": "code",
      "source": [
        "reg_param = 1e-6\n",
        "classes, counts = np.unique(y_train, return_counts=True)\n",
        "n_classes      = len(classes)\n",
        "n_samples, n_features = X_train.shape"
      ],
      "metadata": {
        "id": "2C7Ga_IvS3WK"
      },
      "execution_count": null,
      "outputs": []
    },
    {
      "cell_type": "code",
      "source": [
        "print(f'we have {n_classes} class')\n",
        "print(f'we have {n_samples} train data ')\n",
        "print(f'each one has {n_features} features')"
      ],
      "metadata": {
        "colab": {
          "base_uri": "https://localhost:8080/"
        },
        "id": "DwCltMJRTFNc",
        "outputId": "c6853ede-19de-4d63-da12-74b992c84765"
      },
      "execution_count": null,
      "outputs": [
        {
          "output_type": "stream",
          "name": "stdout",
          "text": [
            "we have 3 class\n",
            "we have 19826 train data \n",
            "each one has 100 features\n"
          ]
        }
      ]
    },
    {
      "cell_type": "code",
      "source": [
        "# — 2) Compute priors and class means\n",
        "priors = counts / n_samples            # π_i\n",
        "means  = np.zeros((n_classes, n_features))\n",
        "for idx, cls in enumerate(classes):\n",
        "    means[idx] = X_train[y_train == cls].mean(axis=0)"
      ],
      "metadata": {
        "id": "YiBoLwxIT43s"
      },
      "execution_count": null,
      "outputs": []
    },
    {
      "cell_type": "code",
      "source": [
        "priors # π_i"
      ],
      "metadata": {
        "colab": {
          "base_uri": "https://localhost:8080/"
        },
        "id": "xcgPWrWEUB2P",
        "outputId": "18d75f3c-6e4f-4197-d40c-dfd25058f3c5"
      },
      "execution_count": null,
      "outputs": [
        {
          "output_type": "execute_result",
          "data": {
            "text/plain": [
              "array([0.05770201, 0.77433673, 0.16796126])"
            ]
          },
          "metadata": {},
          "execution_count": 133
        }
      ]
    },
    {
      "cell_type": "code",
      "source": [
        "print(means[0]) #meau class 0 100d\n",
        "print(len(means[0]))"
      ],
      "metadata": {
        "colab": {
          "base_uri": "https://localhost:8080/"
        },
        "id": "pLycHbhdbgJF",
        "outputId": "8346ae6d-b3f8-4d4a-b20d-e28d028b4e9e"
      },
      "execution_count": null,
      "outputs": [
        {
          "output_type": "stream",
          "name": "stdout",
          "text": [
            "[ 6.88158730e-02 -3.59111676e-02 -3.82256028e-03  8.72923631e-03\n",
            "  4.18876590e-03 -1.42543655e-03  4.33307535e-02 -1.12639993e-02\n",
            " -1.55211914e-04  2.44575218e-02 -1.99018256e-02  2.09837074e-02\n",
            "  8.41701512e-03  8.67466801e-03  1.74905743e-03 -1.89021034e-02\n",
            "  4.88024669e-02 -1.69274376e-02 -5.77892104e-03 -1.97425986e-02\n",
            " -4.07686660e-03 -2.39710204e-03  1.20357700e-02 -4.15132177e-03\n",
            "  5.23391113e-03  8.66930307e-03  9.48898436e-03  2.09306813e-02\n",
            "  9.93560969e-03 -1.65449374e-03 -8.57253686e-03 -3.65780463e-03\n",
            "  1.34251953e-03 -3.55815201e-03  1.52271992e-02  4.80836557e-03\n",
            "  7.44887829e-03  3.56734535e-03 -3.19844462e-03 -9.74779399e-03\n",
            " -1.73231087e-02 -4.76983451e-03 -2.71451316e-03 -1.79057203e-02\n",
            "  1.20620797e-03 -1.46045590e-02 -6.07016379e-03 -8.20046827e-03\n",
            " -2.32306716e-03 -8.95039885e-03 -6.45884089e-04  2.94685192e-03\n",
            "  2.46585295e-03  2.07396560e-04  1.24469963e-03 -9.46430598e-03\n",
            "  1.09678952e-02  5.30841810e-04  6.85700512e-03 -6.77281795e-04\n",
            "  3.39983575e-03 -3.55302578e-03  1.86980520e-03 -1.51101955e-03\n",
            "  1.18472156e-03 -1.74093669e-03 -8.02703101e-04  2.87261511e-03\n",
            " -3.15583006e-03  2.98480314e-03  3.92959514e-04 -1.11361433e-03\n",
            "  3.90365095e-03  7.72370854e-04 -2.02622412e-04  1.11264797e-03\n",
            " -1.71103654e-03  4.45587504e-04  3.47822349e-03  2.84067736e-04\n",
            "  3.82495644e-04  1.60691176e-03  5.15018419e-04 -2.27344146e-03\n",
            "  4.30329867e-04 -1.60918344e-03 -6.92712620e-04  1.40898604e-03\n",
            "  1.70305307e-03  9.36562558e-04  2.50104751e-04 -3.82908742e-05\n",
            "  1.34026493e-03 -3.08741924e-04  5.65110177e-04  1.45821815e-03\n",
            "  1.23797560e-03  7.88368304e-04 -1.04618819e-03 -5.81698879e-04]\n",
            "100\n"
          ]
        }
      ]
    },
    {
      "cell_type": "code",
      "source": [
        "\n",
        "#calc covariance matris\n",
        "covariances = np.zeros((n_classes, n_features, n_features))\n",
        "for idx, cls in enumerate(classes):\n",
        "    Xc = X_train[y_train == cls]\n",
        "    covariances[idx] = np.cov(Xc, rowvar=False) \\\n",
        "                       + reg_param * np.eye(n_features)\n"
      ],
      "metadata": {
        "id": "KrxcH6qkcQuf"
      },
      "execution_count": null,
      "outputs": []
    },
    {
      "cell_type": "code",
      "source": [
        "covariances[0] #matris 100X100"
      ],
      "metadata": {
        "colab": {
          "base_uri": "https://localhost:8080/"
        },
        "id": "2-Nw1muZcgoe",
        "outputId": "4e12b243-f4a2-4a92-cda5-d3b22357379b"
      },
      "execution_count": null,
      "outputs": [
        {
          "output_type": "execute_result",
          "data": {
            "text/plain": [
              "array([[ 5.21448678e-03, -2.42819910e-04, -2.84226385e-04, ...,\n",
              "        -1.32486562e-04,  6.15237791e-05,  1.51740832e-05],\n",
              "       [-2.42819910e-04,  4.07227978e-03,  2.93601453e-04, ...,\n",
              "         6.07263634e-06, -4.98643951e-05, -4.20123190e-05],\n",
              "       [-2.84226385e-04,  2.93601453e-04,  2.26843431e-03, ...,\n",
              "        -2.51385192e-05,  2.36215015e-06, -3.24081267e-06],\n",
              "       ...,\n",
              "       [-1.32486562e-04,  6.07263634e-06, -2.51385192e-05, ...,\n",
              "         8.20298198e-04,  4.60721626e-06,  8.89894664e-05],\n",
              "       [ 6.15237791e-05, -4.98643951e-05,  2.36215015e-06, ...,\n",
              "         4.60721626e-06,  9.05810025e-04,  2.21931695e-05],\n",
              "       [ 1.51740832e-05, -4.20123190e-05, -3.24081267e-06, ...,\n",
              "         8.89894664e-05,  2.21931695e-05,  1.14227588e-03]])"
            ]
          },
          "metadata": {},
          "execution_count": 136
        }
      ]
    },
    {
      "cell_type": "code",
      "source": [
        "inv_covs = [inv(covariances[i]) for i in range(n_classes)]\n",
        "log_dets = [np.log(det(covariances[i])) for i in range(n_classes)]"
      ],
      "metadata": {
        "id": "oImg71XRfHZt"
      },
      "execution_count": null,
      "outputs": []
    },
    {
      "cell_type": "markdown",
      "source": [
        "##Quadratic discriminant"
      ],
      "metadata": {
        "id": "Ua9nZZU55LQO"
      }
    },
    {
      "cell_type": "code",
      "source": [
        "def qda_scores(x):\n",
        "\n",
        "    return np.array([\n",
        "        -0.5 * log_dets[i]\n",
        "        -0.5 * (\n",
        "            x @ inv_covs[i] @ x\n",
        "            - 2 * (x @ inv_covs[i] @ means[i])\n",
        "            + (means[i] @ inv_covs[i] @ means[i])\n",
        "        )\n",
        "        + np.log(priors[i])\n",
        "        for i in range(n_classes)\n",
        "    ])"
      ],
      "metadata": {
        "id": "-TkaQfEHdVS_"
      },
      "execution_count": null,
      "outputs": []
    },
    {
      "cell_type": "code",
      "source": [
        "y_pred_qda = np.array([classes[np.argmax(qda_scores(x))] for x in X_test])\n"
      ],
      "metadata": {
        "id": "-liABrBwe3gL"
      },
      "execution_count": null,
      "outputs": []
    },
    {
      "cell_type": "code",
      "source": [
        "print(\"QDA Report:\\n\", classification_report(y_test, y_pred_qda, digits=4))\n"
      ],
      "metadata": {
        "colab": {
          "base_uri": "https://localhost:8080/"
        },
        "id": "wO1qtAKPfKPM",
        "outputId": "11173919-c4ba-4524-ef45-677f38667568"
      },
      "execution_count": null,
      "outputs": [
        {
          "output_type": "stream",
          "name": "stdout",
          "text": [
            "QDA Report:\n",
            "               precision    recall  f1-score   support\n",
            "\n",
            "           0     0.1327    0.5035    0.2101       286\n",
            "           1     0.9502    0.6021    0.7372      3838\n",
            "           2     0.5292    0.9148    0.6705       833\n",
            "\n",
            "    accuracy                         0.6490      4957\n",
            "   macro avg     0.5374    0.6735    0.5392      4957\n",
            "weighted avg     0.8323    0.6490    0.6955      4957\n",
            "\n"
          ]
        }
      ]
    },
    {
      "cell_type": "code",
      "source": [
        "#10 fold\n",
        "def qda_10fold(X, y, n_classes, priors, means, covariances, reg_param=1e-6):\n",
        "\n",
        "    kf = KFold(n_splits=10, shuffle=True, random_state=42)\n",
        "\n",
        "    fold = 1\n",
        "    accuracies = []\n",
        "\n",
        "\n",
        "    for train_idx, test_idx in kf.split(X):\n",
        "        X_train, X_test = X[train_idx], X[test_idx]\n",
        "        y_train, y_test = y[train_idx], y[test_idx]\n",
        "\n",
        "\n",
        "        classes = np.unique(y_train)\n",
        "        counts = np.bincount(y_train)\n",
        "        n_samples, n_features = X_train.shape\n",
        "\n",
        "        means_fold = np.zeros((n_classes, n_features))\n",
        "        for idx, cls in enumerate(classes):\n",
        "            means_fold[idx] = X_train[y_train == cls].mean(axis=0)\n",
        "\n",
        "        priors_fold = counts / n_samples\n",
        "\n",
        "        covariances_fold = np.zeros((n_classes, n_features, n_features))\n",
        "        for idx, cls in enumerate(classes):\n",
        "            Xc = X_train[y_train == cls]\n",
        "            covariances_fold[idx] = np.cov(Xc, rowvar=False) + reg_param * np.eye(n_features)\n",
        "\n",
        "\n",
        "        y_pred = np.array([classes[np.argmax(qda_scores(x))] for x in X_test])\n",
        "\n",
        "\n",
        "        print(f\"\\nFold {fold}:\")\n",
        "        print(\"Classification Report:\")\n",
        "        print(classification_report(y_test, y_pred, digits=4))\n",
        "        print(\"Confusion Matrix:\")\n",
        "        print(confusion_matrix(y_test, y_pred))\n",
        "\n",
        "\n",
        "        accuracy = np.mean(y_pred == y_test)\n",
        "        accuracies.append(accuracy)\n",
        "\n",
        "        fold += 1\n",
        "\n",
        "    # Print  cross-validation results\n",
        "    print(f\"\\nAverage Accuracy: {np.mean(accuracies):.4f}\")\n",
        "    print(f\"Standard Deviation of Accuracy: {np.std(accuracies):.4f}\")\n"
      ],
      "metadata": {
        "id": "te_-kvfbg5KU"
      },
      "execution_count": null,
      "outputs": []
    },
    {
      "cell_type": "code",
      "source": [
        "qda_10fold(X, y, n_classes=3, priors=priors, means=means, covariances=covariances)\n"
      ],
      "metadata": {
        "colab": {
          "base_uri": "https://localhost:8080/"
        },
        "id": "Uqm02yYWg_CZ",
        "outputId": "9a25c5a5-eeda-492e-f3f3-647038951cba"
      },
      "execution_count": null,
      "outputs": [
        {
          "output_type": "stream",
          "name": "stdout",
          "text": [
            "\n",
            "Fold 1:\n",
            "Classification Report:\n",
            "              precision    recall  f1-score   support\n",
            "\n",
            "           0     0.1590    0.5488    0.2466       164\n",
            "           1     0.9573    0.5890    0.7293      1905\n",
            "           2     0.5115    0.9244    0.6586       410\n",
            "\n",
            "    accuracy                         0.6418      2479\n",
            "   macro avg     0.5426    0.6874    0.5448      2479\n",
            "weighted avg     0.8308    0.6418    0.6857      2479\n",
            "\n",
            "Confusion Matrix:\n",
            "[[  90   34   40]\n",
            " [ 461 1122  322]\n",
            " [  15   16  379]]\n",
            "\n",
            "Fold 2:\n",
            "Classification Report:\n",
            "              precision    recall  f1-score   support\n",
            "\n",
            "           0     0.1221    0.4961    0.1960       127\n",
            "           1     0.9626    0.6144    0.7501      1927\n",
            "           2     0.5239    0.9035    0.6632       425\n",
            "\n",
            "    accuracy                         0.6579      2479\n",
            "   macro avg     0.5362    0.6713    0.5364      2479\n",
            "weighted avg     0.8443    0.6579    0.7068      2479\n",
            "\n",
            "Confusion Matrix:\n",
            "[[  63   23   41]\n",
            " [ 435 1184  308]\n",
            " [  18   23  384]]\n",
            "\n",
            "Fold 3:\n",
            "Classification Report:\n",
            "              precision    recall  f1-score   support\n",
            "\n",
            "           0     0.1504    0.5662    0.2377       136\n",
            "           1     0.9678    0.6273    0.7612      1916\n",
            "           2     0.5490    0.9321    0.6910       427\n",
            "\n",
            "    accuracy                         0.6765      2479\n",
            "   macro avg     0.5557    0.7085    0.5633      2479\n",
            "weighted avg     0.8508    0.6765    0.7204      2479\n",
            "\n",
            "Confusion Matrix:\n",
            "[[  77   16   43]\n",
            " [ 430 1202  284]\n",
            " [   5   24  398]]\n",
            "\n",
            "Fold 4:\n",
            "Classification Report:\n",
            "              precision    recall  f1-score   support\n",
            "\n",
            "           0     0.1579    0.5793    0.2482       145\n",
            "           1     0.9662    0.6119    0.7493      1917\n",
            "           2     0.5423    0.9543    0.6916       416\n",
            "\n",
            "    accuracy                         0.6675      2478\n",
            "   macro avg     0.5555    0.7152    0.5630      2478\n",
            "weighted avg     0.8478    0.6675    0.7103      2478\n",
            "\n",
            "Confusion Matrix:\n",
            "[[  84   27   34]\n",
            " [ 443 1173  301]\n",
            " [   5   14  397]]\n",
            "\n",
            "Fold 5:\n",
            "Classification Report:\n",
            "              precision    recall  f1-score   support\n",
            "\n",
            "           0     0.1975    0.6433    0.3022       171\n",
            "           1     0.9646    0.6177    0.7531      1894\n",
            "           2     0.5452    0.9346    0.6887       413\n",
            "\n",
            "    accuracy                         0.6723      2478\n",
            "   macro avg     0.5691    0.7319    0.5813      2478\n",
            "weighted avg     0.8417    0.6723    0.7113      2478\n",
            "\n",
            "Confusion Matrix:\n",
            "[[ 110   28   33]\n",
            " [ 435 1170  289]\n",
            " [  12   15  386]]\n",
            "\n",
            "Fold 6:\n",
            "Classification Report:\n",
            "              precision    recall  f1-score   support\n",
            "\n",
            "           0     0.1321    0.4752    0.2068       141\n",
            "           1     0.9617    0.6109    0.7471      1930\n",
            "           2     0.5060    0.9263    0.6545       407\n",
            "\n",
            "    accuracy                         0.6550      2478\n",
            "   macro avg     0.5333    0.6708    0.5362      2478\n",
            "weighted avg     0.8396    0.6550    0.7012      2478\n",
            "\n",
            "Confusion Matrix:\n",
            "[[  67   28   46]\n",
            " [ 429 1179  322]\n",
            " [  11   19  377]]\n",
            "\n",
            "Fold 7:\n",
            "Classification Report:\n",
            "              precision    recall  f1-score   support\n",
            "\n",
            "           0     0.1465    0.5260    0.2291       154\n",
            "           1     0.9597    0.5974    0.7364      1915\n",
            "           2     0.5171    0.9267    0.6637       409\n",
            "\n",
            "    accuracy                         0.6473      2478\n",
            "   macro avg     0.5411    0.6833    0.5431      2478\n",
            "weighted avg     0.8361    0.6473    0.6929      2478\n",
            "\n",
            "Confusion Matrix:\n",
            "[[  81   28   45]\n",
            " [ 462 1144  309]\n",
            " [  10   20  379]]\n",
            "\n",
            "Fold 8:\n",
            "Classification Report:\n",
            "              precision    recall  f1-score   support\n",
            "\n",
            "           0     0.1405    0.5630    0.2249       135\n",
            "           1     0.9551    0.6130    0.7467      1907\n",
            "           2     0.5526    0.9037    0.6858       436\n",
            "\n",
            "    accuracy                         0.6614      2478\n",
            "   macro avg     0.5494    0.6932    0.5525      2478\n",
            "weighted avg     0.8399    0.6614    0.7076      2478\n",
            "\n",
            "Confusion Matrix:\n",
            "[[  76   28   31]\n",
            " [ 450 1169  288]\n",
            " [  15   27  394]]\n",
            "\n",
            "Fold 9:\n",
            "Classification Report:\n",
            "              precision    recall  f1-score   support\n",
            "\n",
            "           0     0.1375    0.5564    0.2206       133\n",
            "           1     0.9600    0.6195    0.7531      1937\n",
            "           2     0.5478    0.9265    0.6885       408\n",
            "\n",
            "    accuracy                         0.6667      2478\n",
            "   macro avg     0.5485    0.7008    0.5541      2478\n",
            "weighted avg     0.8480    0.6667    0.7139      2478\n",
            "\n",
            "Confusion Matrix:\n",
            "[[  74   29   30]\n",
            " [ 455 1200  282]\n",
            " [   9   21  378]]\n",
            "\n",
            "Fold 10:\n",
            "Classification Report:\n",
            "              precision    recall  f1-score   support\n",
            "\n",
            "           0     0.1360    0.5726    0.2198       124\n",
            "           1     0.9663    0.6200    0.7553      1942\n",
            "           2     0.5324    0.9175    0.6738       412\n",
            "\n",
            "    accuracy                         0.6671      2478\n",
            "   macro avg     0.5449    0.7033    0.5496      2478\n",
            "weighted avg     0.8526    0.6671    0.7150      2478\n",
            "\n",
            "Confusion Matrix:\n",
            "[[  71   19   34]\n",
            " [ 440 1204  298]\n",
            " [  11   23  378]]\n",
            "\n",
            "Average Accuracy: 0.6613\n",
            "Standard Deviation of Accuracy: 0.0104\n"
          ]
        }
      ]
    },
    {
      "cell_type": "code",
      "source": [
        "s2 = np.mean(np.diag(S))"
      ],
      "metadata": {
        "id": "YaxAAvFTvgkO"
      },
      "execution_count": null,
      "outputs": []
    },
    {
      "cell_type": "code",
      "source": [
        "S = np.zeros((n_features, n_features))\n",
        "for idx, cls in enumerate(classes):\n",
        "    Xc = X_train[y_train == cls] - means[idx]\n",
        "    S += Xc.T @ Xc\n",
        "S /= (n_samples - n_classes)\n",
        "inv_S = inv(S)"
      ],
      "metadata": {
        "id": "qJDOcdqYi1Ql"
      },
      "execution_count": null,
      "outputs": []
    },
    {
      "cell_type": "markdown",
      "source": [
        "##Linear *discriminant*"
      ],
      "metadata": {
        "id": "T3pbG5X0z5yX"
      }
    },
    {
      "cell_type": "code",
      "source": [
        "def lda_scores(x):\n",
        "\n",
        "    return np.array([\n",
        "        x @ inv_S @ means[i]\n",
        "        - 0.5 * (means[i] @ inv_S @ means[i])\n",
        "        + np.log(priors[i])\n",
        "        for i in range(n_classes)\n",
        "    ])\n"
      ],
      "metadata": {
        "id": "6z9bUOCJiFdE"
      },
      "execution_count": null,
      "outputs": []
    },
    {
      "cell_type": "code",
      "source": [
        "y_pred_lda = np.array([classes[np.argmax(lda_scores(x))] for x in X_test])\n"
      ],
      "metadata": {
        "id": "V91dt_CHjVNK"
      },
      "execution_count": null,
      "outputs": []
    },
    {
      "cell_type": "code",
      "source": [
        "print(\"LDA Report:\\n\", classification_report(y_test, y_pred_lda, digits=4))\n"
      ],
      "metadata": {
        "colab": {
          "base_uri": "https://localhost:8080/"
        },
        "id": "QR0FWsxJjuLM",
        "outputId": "7a2bd96f-9953-4877-a3c0-a9d1302239dc"
      },
      "execution_count": null,
      "outputs": [
        {
          "output_type": "stream",
          "name": "stdout",
          "text": [
            "LDA Report:\n",
            "               precision    recall  f1-score   support\n",
            "\n",
            "           0     0.4064    0.2657    0.3214       286\n",
            "           1     0.8512    0.9497    0.8978      3838\n",
            "           2     0.7971    0.4670    0.5889       833\n",
            "\n",
            "    accuracy                         0.8291      4957\n",
            "   macro avg     0.6849    0.5608    0.6027      4957\n",
            "weighted avg     0.8165    0.8291    0.8126      4957\n",
            "\n"
          ]
        }
      ]
    },
    {
      "cell_type": "code",
      "source": [
        "def lda_10fold(X, y, n_classes, reg_param=1e-6):\n",
        "\n",
        "    kf = KFold(n_splits=10, shuffle=True, random_state=42)\n",
        "\n",
        "    fold = 1\n",
        "    accuracies = []\n",
        "\n",
        "    for train_idx, test_idx in kf.split(X):\n",
        "        X_train, X_test = X[train_idx], X[test_idx]\n",
        "        y_train, y_test = y[train_idx], y[test_idx]\n",
        "\n",
        "\n",
        "        classes = np.unique(y_train)\n",
        "        counts = np.bincount(y_train)\n",
        "        n_samples, n_features = X_train.shape\n",
        "\n",
        "        means = np.zeros((n_classes, n_features))\n",
        "        for idx, cls in enumerate(classes):\n",
        "            means[idx] = X_train[y_train == cls].mean(axis=0)\n",
        "\n",
        "        priors = counts / n_samples\n",
        "\n",
        "        S = np.zeros((n_features, n_features))\n",
        "        for idx, cls in enumerate(classes):\n",
        "            Xc = X_train[y_train == cls] - means[idx]\n",
        "            S += Xc.T @ Xc\n",
        "        S /= (n_samples - n_classes)\n",
        "\n",
        "        S += reg_param * np.eye(n_features)\n",
        "\n",
        "\n",
        "        inv_S = np.linalg.inv(S)\n",
        "\n",
        "\n",
        "        y_pred = []\n",
        "        for x in X_test:\n",
        "\n",
        "            scores = np.array([\n",
        "                -0.5 * np.log(np.linalg.det(S))\n",
        "                - 0.5 * (x - means[i]).T @ inv_S @ (x - means[i])\n",
        "                + np.log(priors[i])\n",
        "                for i in range(n_classes)\n",
        "            ])\n",
        "            y_pred.append(classes[np.argmax(scores)])\n",
        "\n",
        "        print(f\"\\nFold {fold}:\")\n",
        "        print(\"Classification Report:\")\n",
        "        print(classification_report(y_test, y_pred, digits=4))\n",
        "        print(\"Confusion Matrix:\")\n",
        "        print(confusion_matrix(y_test, y_pred))\n",
        "\n",
        "        accuracy = np.mean(np.array(y_pred) == y_test)\n",
        "        accuracies.append(accuracy)\n",
        "\n",
        "        fold += 1\n",
        "\n",
        "    print(f\"\\nAverage Accuracy: {np.mean(accuracies):.4f}\")\n",
        "    print(f\"Standard Deviation of Accuracy: {np.std(accuracies):.4f}\")\n"
      ],
      "metadata": {
        "id": "ZWLwA7_zkYje"
      },
      "execution_count": null,
      "outputs": []
    },
    {
      "cell_type": "code",
      "source": [
        "lda_10fold(X, y, n_classes=3)"
      ],
      "metadata": {
        "colab": {
          "base_uri": "https://localhost:8080/"
        },
        "id": "I24UF1EbkdP_",
        "outputId": "01145c1f-99f5-40c9-b01f-921e04e6b461"
      },
      "execution_count": null,
      "outputs": [
        {
          "output_type": "stream",
          "name": "stdout",
          "text": [
            "\n",
            "Fold 1:\n",
            "Classification Report:\n",
            "              precision    recall  f1-score   support\n",
            "\n",
            "           0     0.4667    0.2988    0.3643       164\n",
            "           1     0.8498    0.9533    0.8986      1905\n",
            "           2     0.8059    0.4659    0.5904       410\n",
            "\n",
            "    accuracy                         0.8294      2479\n",
            "   macro avg     0.7075    0.5726    0.6178      2479\n",
            "weighted avg     0.8172    0.8294    0.8123      2479\n",
            "\n",
            "Confusion Matrix:\n",
            "[[  49  107    8]\n",
            " [  51 1816   38]\n",
            " [   5  214  191]]\n",
            "\n",
            "Fold 2:\n",
            "Classification Report:\n",
            "              precision    recall  f1-score   support\n",
            "\n",
            "           0     0.4124    0.3150    0.3571       127\n",
            "           1     0.8568    0.9502    0.9011      1927\n",
            "           2     0.8041    0.4635    0.5881       425\n",
            "\n",
            "    accuracy                         0.8342      2479\n",
            "   macro avg     0.6911    0.5762    0.6154      2479\n",
            "weighted avg     0.8250    0.8342    0.8196      2479\n",
            "\n",
            "Confusion Matrix:\n",
            "[[  40   80    7]\n",
            " [  55 1831   41]\n",
            " [   2  226  197]]\n",
            "\n",
            "Fold 3:\n",
            "Classification Report:\n",
            "              precision    recall  f1-score   support\n",
            "\n",
            "           0     0.4095    0.3162    0.3568       136\n",
            "           1     0.8532    0.9431    0.8959      1916\n",
            "           2     0.7891    0.4731    0.5915       427\n",
            "\n",
            "    accuracy                         0.8278      2479\n",
            "   macro avg     0.6839    0.5775    0.6147      2479\n",
            "weighted avg     0.8178    0.8278    0.8139      2479\n",
            "\n",
            "Confusion Matrix:\n",
            "[[  43   90    3]\n",
            " [  58 1807   51]\n",
            " [   4  221  202]]\n",
            "\n",
            "Fold 4:\n",
            "Classification Report:\n",
            "              precision    recall  f1-score   support\n",
            "\n",
            "           0     0.4112    0.3034    0.3492       145\n",
            "           1     0.8537    0.9405    0.8950      1917\n",
            "           2     0.7683    0.4784    0.5896       416\n",
            "\n",
            "    accuracy                         0.8257      2478\n",
            "   macro avg     0.6777    0.5741    0.6113      2478\n",
            "weighted avg     0.8135    0.8257    0.8118      2478\n",
            "\n",
            "Confusion Matrix:\n",
            "[[  44   96    5]\n",
            " [  59 1803   55]\n",
            " [   4  213  199]]\n",
            "\n",
            "Fold 5:\n",
            "Classification Report:\n",
            "              precision    recall  f1-score   support\n",
            "\n",
            "           0     0.5495    0.3567    0.4326       171\n",
            "           1     0.8500    0.9578    0.9007      1894\n",
            "           2     0.8326    0.4697    0.6006       413\n",
            "\n",
            "    accuracy                         0.8349      2478\n",
            "   macro avg     0.7441    0.5947    0.6446      2478\n",
            "weighted avg     0.8264    0.8349    0.8184      2478\n",
            "\n",
            "Confusion Matrix:\n",
            "[[  61  103    7]\n",
            " [  48 1814   32]\n",
            " [   2  217  194]]\n",
            "\n",
            "Fold 6:\n",
            "Classification Report:\n",
            "              precision    recall  f1-score   support\n",
            "\n",
            "           0     0.3895    0.2624    0.3136       141\n",
            "           1     0.8525    0.9461    0.8969      1930\n",
            "           2     0.7759    0.4595    0.5772       407\n",
            "\n",
            "    accuracy                         0.8273      2478\n",
            "   macro avg     0.6726    0.5560    0.5959      2478\n",
            "weighted avg     0.8136    0.8273    0.8112      2478\n",
            "\n",
            "Confusion Matrix:\n",
            "[[  37   96    8]\n",
            " [  58 1826   46]\n",
            " [   0  220  187]]\n",
            "\n",
            "Fold 7:\n",
            "Classification Report:\n",
            "              precision    recall  f1-score   support\n",
            "\n",
            "           0     0.4595    0.3312    0.3849       154\n",
            "           1     0.8563    0.9457    0.8988      1915\n",
            "           2     0.8016    0.4939    0.6112       409\n",
            "\n",
            "    accuracy                         0.8329      2478\n",
            "   macro avg     0.7058    0.5902    0.6316      2478\n",
            "weighted avg     0.8226    0.8329    0.8194      2478\n",
            "\n",
            "Confusion Matrix:\n",
            "[[  51   98    5]\n",
            " [  59 1811   45]\n",
            " [   1  206  202]]\n",
            "\n",
            "Fold 8:\n",
            "Classification Report:\n",
            "              precision    recall  f1-score   support\n",
            "\n",
            "           0     0.3868    0.3037    0.3402       135\n",
            "           1     0.8503    0.9413    0.8935      1907\n",
            "           2     0.8084    0.4839    0.6055       436\n",
            "\n",
            "    accuracy                         0.8261      2478\n",
            "   macro avg     0.6818    0.5763    0.6131      2478\n",
            "weighted avg     0.8177    0.8261    0.8127      2478\n",
            "\n",
            "Confusion Matrix:\n",
            "[[  41   93    1]\n",
            " [  63 1795   49]\n",
            " [   2  223  211]]\n",
            "\n",
            "Fold 9:\n",
            "Classification Report:\n",
            "              precision    recall  f1-score   support\n",
            "\n",
            "           0     0.3793    0.2481    0.3000       133\n",
            "           1     0.8565    0.9520    0.9017      1937\n",
            "           2     0.7941    0.4632    0.5851       408\n",
            "\n",
            "    accuracy                         0.8337      2478\n",
            "   macro avg     0.6766    0.5544    0.5956      2478\n",
            "weighted avg     0.8206    0.8337    0.8173      2478\n",
            "\n",
            "Confusion Matrix:\n",
            "[[  33   91    9]\n",
            " [  53 1844   40]\n",
            " [   1  218  189]]\n",
            "\n",
            "Fold 10:\n",
            "Classification Report:\n",
            "              precision    recall  f1-score   support\n",
            "\n",
            "           0     0.3636    0.2903    0.3229       124\n",
            "           1     0.8670    0.9428    0.9033      1942\n",
            "           2     0.7903    0.5121    0.6215       412\n",
            "\n",
            "    accuracy                         0.8386      2478\n",
            "   macro avg     0.6736    0.5818    0.6159      2478\n",
            "weighted avg     0.8290    0.8386    0.8274      2478\n",
            "\n",
            "Confusion Matrix:\n",
            "[[  36   83    5]\n",
            " [  60 1831   51]\n",
            " [   3  198  211]]\n",
            "\n",
            "Average Accuracy: 0.8311\n",
            "Standard Deviation of Accuracy: 0.0042\n"
          ]
        }
      ]
    },
    {
      "cell_type": "markdown",
      "source": [
        "##nive_bayes"
      ],
      "metadata": {
        "id": "9GOqbUzL0Z6M"
      }
    },
    {
      "cell_type": "code",
      "source": [
        "s= np.sqrt(np.diag(S))"
      ],
      "metadata": {
        "id": "00Qix5q_tmmu"
      },
      "execution_count": null,
      "outputs": []
    },
    {
      "cell_type": "code",
      "source": [
        "def nive_bayes(x):\n",
        "    \"\"\"Diagonal‐covariance (naive) discriminant.\"\"\"\n",
        "    return np.array([\n",
        "        -0.5 * np.sum(((x - means[i]) / s) ** 2)\n",
        "        + np.log(priors[i])\n",
        "        for i in range(n_classes)\n",
        "    ])"
      ],
      "metadata": {
        "id": "HktT0PBTs_UO"
      },
      "execution_count": null,
      "outputs": []
    },
    {
      "cell_type": "code",
      "source": [
        "y_pred_nive = np.array([classes[np.argmax(nive_bayes(x))] for x in X_test])\n"
      ],
      "metadata": {
        "id": "yHwDaa35tUlc"
      },
      "execution_count": null,
      "outputs": []
    },
    {
      "cell_type": "code",
      "source": [
        "print(\"NIVE Report:\\n\", classification_report(y_test, y_pred_nive, digits=4))\n"
      ],
      "metadata": {
        "colab": {
          "base_uri": "https://localhost:8080/"
        },
        "id": "d9MgOh0xtrKL",
        "outputId": "64eb6f56-ef95-47f9-9b48-9899d5367c10"
      },
      "execution_count": null,
      "outputs": [
        {
          "output_type": "stream",
          "name": "stdout",
          "text": [
            "NIVE Report:\n",
            "               precision    recall  f1-score   support\n",
            "\n",
            "           0     0.4190    0.2622    0.3226       286\n",
            "           1     0.8431    0.9547    0.8954      3838\n",
            "           2     0.8079    0.4190    0.5518       833\n",
            "\n",
            "    accuracy                         0.8247      4957\n",
            "   macro avg     0.6900    0.5453    0.5899      4957\n",
            "weighted avg     0.8127    0.8247    0.8046      4957\n",
            "\n"
          ]
        }
      ]
    },
    {
      "cell_type": "code",
      "source": [
        "kf = KFold(n_splits=10, shuffle=True, random_state=42)\n",
        "all_y_true = []\n",
        "all_y_pred = []\n",
        "\n",
        "for fold, (train_idx, test_idx) in enumerate(kf.split(X)):\n",
        "    X_train, X_test = X[train_idx], X[test_idx]\n",
        "    y_train, y_test = y[train_idx], y[test_idx]\n",
        "\n",
        "    classes, counts = np.unique(y_train, return_counts=True)\n",
        "    n_classes = len(classes)\n",
        "    n_features = X.shape[1]\n",
        "    reg_param = 1e-6\n",
        "\n",
        "    priors = counts / len(y_train)\n",
        "\n",
        "    means = np.zeros((n_classes, n_features))\n",
        "    for i, cls in enumerate(classes):\n",
        "        means[i] = X_train[y_train == cls].mean(axis=0)\n",
        "\n",
        "    s = X_train.std(axis=0) + reg_param  # Add reg_param to avoid division by 0\n",
        "\n",
        "    def diag_scores(x):\n",
        "        return np.array([\n",
        "            -0.5 * np.sum(((x - means[i]) / s) ** 2) + np.log(priors[i])\n",
        "            for i in range(n_classes)\n",
        "        ])\n",
        "\n",
        "    y_pred = np.array([classes[np.argmax(diag_scores(x))] for x in X_test])\n",
        "    all_y_true.extend(y_test)\n",
        "    all_y_pred.extend(y_pred)\n",
        "\n",
        "    print(f\"\\n=== Fold {fold + 1} ===\")\n",
        "    print(classification_report(y_test, y_pred, digits=4))\n",
        "    print(\"Confusion Matrix:\")\n",
        "    print(confusion_matrix(y_test, y_pred))\n",
        "\n",
        "print(\"\\n=== Overall Report (10-Fold CV) ===\")\n",
        "print(classification_report(all_y_true, all_y_pred, digits=4))\n",
        "print(\"Confusion Matrix:\")\n",
        "print(confusion_matrix(all_y_true, all_y_pred))"
      ],
      "metadata": {
        "colab": {
          "base_uri": "https://localhost:8080/"
        },
        "id": "w1y3qyzduf7i",
        "outputId": "2390586f-ff40-469e-8d86-575586de1333"
      },
      "execution_count": null,
      "outputs": [
        {
          "output_type": "stream",
          "name": "stdout",
          "text": [
            "\n",
            "=== Fold 1 ===\n",
            "              precision    recall  f1-score   support\n",
            "\n",
            "           0     0.4615    0.2927    0.3582       164\n",
            "           1     0.8398    0.9549    0.8936      1905\n",
            "           2     0.8134    0.4146    0.5493       410\n",
            "\n",
            "    accuracy                         0.8217      2479\n",
            "   macro avg     0.7049    0.5541    0.6004      2479\n",
            "weighted avg     0.8104    0.8217    0.8013      2479\n",
            "\n",
            "Confusion Matrix:\n",
            "[[  48  112    4]\n",
            " [  51 1819   35]\n",
            " [   5  235  170]]\n",
            "\n",
            "=== Fold 2 ===\n",
            "              precision    recall  f1-score   support\n",
            "\n",
            "           0     0.3977    0.2756    0.3256       127\n",
            "           1     0.8446    0.9564    0.8971      1927\n",
            "           2     0.8134    0.4000    0.5363       425\n",
            "\n",
            "    accuracy                         0.8261      2479\n",
            "   macro avg     0.6853    0.5440    0.5863      2479\n",
            "weighted avg     0.8164    0.8261    0.8059      2479\n",
            "\n",
            "Confusion Matrix:\n",
            "[[  35   86    6]\n",
            " [  51 1843   33]\n",
            " [   2  253  170]]\n",
            "\n",
            "=== Fold 3 ===\n",
            "              precision    recall  f1-score   support\n",
            "\n",
            "           0     0.4141    0.3015    0.3489       136\n",
            "           1     0.8468    0.9494    0.8952      1916\n",
            "           2     0.8060    0.4379    0.5675       427\n",
            "\n",
            "    accuracy                         0.8257      2479\n",
            "   macro avg     0.6890    0.5629    0.6039      2479\n",
            "weighted avg     0.8161    0.8257    0.8088      2479\n",
            "\n",
            "Confusion Matrix:\n",
            "[[  41   92    3]\n",
            " [  55 1819   42]\n",
            " [   3  237  187]]\n",
            "\n",
            "=== Fold 4 ===\n",
            "              precision    recall  f1-score   support\n",
            "\n",
            "           0     0.4135    0.2966    0.3454       145\n",
            "           1     0.8477    0.9463    0.8943      1917\n",
            "           2     0.7821    0.4399    0.5631       416\n",
            "\n",
            "    accuracy                         0.8232      2478\n",
            "   macro avg     0.6811    0.5609    0.6009      2478\n",
            "weighted avg     0.8112    0.8232    0.8065      2478\n",
            "\n",
            "Confusion Matrix:\n",
            "[[  43   97    5]\n",
            " [  57 1814   46]\n",
            " [   4  229  183]]\n",
            "\n",
            "=== Fold 5 ===\n",
            "              precision    recall  f1-score   support\n",
            "\n",
            "           0     0.5556    0.3509    0.4301       171\n",
            "           1     0.8409    0.9630    0.8979      1894\n",
            "           2     0.8607    0.4189    0.5635       413\n",
            "\n",
            "    accuracy                         0.8301      2478\n",
            "   macro avg     0.7524    0.5776    0.6305      2478\n",
            "weighted avg     0.8245    0.8301    0.8099      2478\n",
            "\n",
            "Confusion Matrix:\n",
            "[[  60  107    4]\n",
            " [  46 1824   24]\n",
            " [   2  238  173]]\n",
            "\n",
            "=== Fold 6 ===\n",
            "              precision    recall  f1-score   support\n",
            "\n",
            "           0     0.3889    0.2482    0.3030       141\n",
            "           1     0.8437    0.9539    0.8954      1930\n",
            "           2     0.7961    0.4029    0.5351       407\n",
            "\n",
            "    accuracy                         0.8232      2478\n",
            "   macro avg     0.6762    0.5350    0.5778      2478\n",
            "weighted avg     0.8100    0.8232    0.8025      2478\n",
            "\n",
            "Confusion Matrix:\n",
            "[[  35   98    8]\n",
            " [  55 1841   34]\n",
            " [   0  243  164]]\n",
            "\n",
            "=== Fold 7 ===\n",
            "              precision    recall  f1-score   support\n",
            "\n",
            "           0     0.4615    0.3117    0.3721       154\n",
            "           1     0.8492    0.9499    0.8967      1915\n",
            "           2     0.7974    0.4523    0.5772       409\n",
            "\n",
            "    accuracy                         0.8281      2478\n",
            "   macro avg     0.7027    0.5713    0.6153      2478\n",
            "weighted avg     0.8166    0.8281    0.8114      2478\n",
            "\n",
            "Confusion Matrix:\n",
            "[[  48  100    6]\n",
            " [  55 1819   41]\n",
            " [   1  223  185]]\n",
            "\n",
            "=== Fold 8 ===\n",
            "              precision    recall  f1-score   support\n",
            "\n",
            "           0     0.3800    0.2815    0.3234       135\n",
            "           1     0.8389    0.9476    0.8899      1907\n",
            "           2     0.8259    0.4243    0.5606       436\n",
            "\n",
            "    accuracy                         0.8192      2478\n",
            "   macro avg     0.6816    0.5511    0.5913      2478\n",
            "weighted avg     0.8116    0.8192    0.8011      2478\n",
            "\n",
            "Confusion Matrix:\n",
            "[[  38   97    0]\n",
            " [  61 1807   39]\n",
            " [   1  250  185]]\n",
            "\n",
            "=== Fold 9 ===\n",
            "              precision    recall  f1-score   support\n",
            "\n",
            "           0     0.4026    0.2331    0.2952       133\n",
            "           1     0.8504    0.9566    0.9004      1937\n",
            "           2     0.7928    0.4314    0.5587       408\n",
            "\n",
            "    accuracy                         0.8313      2478\n",
            "   macro avg     0.6819    0.5404    0.5848      2478\n",
            "weighted avg     0.8169    0.8313    0.8117      2478\n",
            "\n",
            "Confusion Matrix:\n",
            "[[  31   94    8]\n",
            " [  46 1853   38]\n",
            " [   0  232  176]]\n",
            "\n",
            "=== Fold 10 ===\n",
            "              precision    recall  f1-score   support\n",
            "\n",
            "           0     0.3402    0.2661    0.2986       124\n",
            "           1     0.8571    0.9454    0.8991      1942\n",
            "           2     0.7908    0.4587    0.5806       412\n",
            "\n",
            "    accuracy                         0.8305      2478\n",
            "   macro avg     0.6627    0.5568    0.5928      2478\n",
            "weighted avg     0.8202    0.8305    0.8161      2478\n",
            "\n",
            "Confusion Matrix:\n",
            "[[  33   86    5]\n",
            " [  61 1836   45]\n",
            " [   3  220  189]]\n",
            "\n",
            "=== Overall Report (10-Fold CV) ===\n",
            "              precision    recall  f1-score   support\n",
            "\n",
            "           0     0.4243    0.2881    0.3432      1430\n",
            "           1     0.8459    0.9523    0.8960     19190\n",
            "           2     0.8071    0.4281    0.5594      4163\n",
            "\n",
            "    accuracy                         0.8259     24783\n",
            "   macro avg     0.6924    0.5562    0.5995     24783\n",
            "weighted avg     0.8151    0.8259    0.8075     24783\n",
            "\n",
            "Confusion Matrix:\n",
            "[[  412   969    49]\n",
            " [  538 18275   377]\n",
            " [   21  2360  1782]]\n"
          ]
        }
      ]
    },
    {
      "cell_type": "markdown",
      "source": [
        "##Spherical‐covariance Gaussian"
      ],
      "metadata": {
        "id": "eqWt0gxg0oeX"
      }
    },
    {
      "cell_type": "code",
      "source": [
        "s2 = np.mean(np.diag(S))"
      ],
      "metadata": {
        "id": "vf2e6I4TvHj9"
      },
      "execution_count": null,
      "outputs": []
    },
    {
      "cell_type": "code",
      "source": [
        "def sph_scores(x):\n",
        "\n",
        "    return np.array([\n",
        "        -0.5 / s2 * np.sum((x - means[i])**2)\n",
        "        + np.log(priors[i])\n",
        "        for i in range(n_classes)\n",
        "    ])"
      ],
      "metadata": {
        "id": "RRvHDnI3u8Os"
      },
      "execution_count": null,
      "outputs": []
    },
    {
      "cell_type": "code",
      "source": [
        "y_pred_sph = np.array([classes[np.argmax(sph_scores(x))] for x in X_test])\n"
      ],
      "metadata": {
        "id": "7XfOlxHqvwhF"
      },
      "execution_count": null,
      "outputs": []
    },
    {
      "cell_type": "code",
      "source": [
        "print(\"sph Report:\\n\", classification_report(y_test, y_pred_sph, digits=4))\n"
      ],
      "metadata": {
        "colab": {
          "base_uri": "https://localhost:8080/"
        },
        "id": "fQFutFmqv76v",
        "outputId": "8260664e-3271-4416-a75e-76547dd1d0d1"
      },
      "execution_count": null,
      "outputs": [
        {
          "output_type": "stream",
          "name": "stdout",
          "text": [
            "sph Report:\n",
            "               precision    recall  f1-score   support\n",
            "\n",
            "           0     0.3511    0.2661    0.3028       124\n",
            "           1     0.9198    0.9207    0.9202      1942\n",
            "           2     0.7318    0.7816    0.7559       412\n",
            "\n",
            "    accuracy                         0.8648      2478\n",
            "   macro avg     0.6675    0.6561    0.6596      2478\n",
            "weighted avg     0.8600    0.8648    0.8620      2478\n",
            "\n"
          ]
        }
      ]
    },
    {
      "cell_type": "code",
      "source": [
        "from sklearn.model_selection import KFold\n",
        "from sklearn.metrics import classification_report, confusion_matrix\n",
        "import numpy as np\n",
        "\n",
        "kf = KFold(n_splits=10, shuffle=True, random_state=42)\n",
        "\n",
        "all_y_true = []\n",
        "all_y_pred = []\n",
        "\n",
        "for fold, (train_index, test_index) in enumerate(kf.split(X)):\n",
        "    X_train, X_test = X[train_index], X[test_index]\n",
        "    y_train, y_test = y[train_index], y[test_index]\n",
        "\n",
        "    classes, counts = np.unique(y_train, return_counts=True)\n",
        "    n_classes = len(classes)\n",
        "    n_samples, n_features = X_train.shape\n",
        "\n",
        "    priors = counts / n_samples\n",
        "    means = np.zeros((n_classes, n_features))\n",
        "    for idx, cls in enumerate(classes):\n",
        "        means[idx] = X_train[y_train == cls].mean(axis=0)\n",
        "\n",
        "    S = np.zeros((n_features, n_features))\n",
        "    for idx, cls in enumerate(classes):\n",
        "        Xc = X_train[y_train == cls] - means[idx]\n",
        "        S += Xc.T @ Xc\n",
        "    S /= (n_samples - n_classes)\n",
        "\n",
        "    s2 = np.mean(np.diag(S))\n",
        "\n",
        "    def sph_scores(x):\n",
        "        return np.array([\n",
        "            -0.5 / s2 * np.sum((x - means[i]) ** 2) + np.log(priors[i])\n",
        "            for i in range(n_classes)\n",
        "        ])\n",
        "\n",
        "    y_pred = np.array([\n",
        "        classes[np.argmax(sph_scores(x))] for x in X_test\n",
        "    ])\n",
        "\n",
        "    all_y_true.extend(y_test)\n",
        "    all_y_pred.extend(y_pred)\n",
        "\n",
        "    print(f\"\\n=== Fold {fold+1} ===\")\n",
        "    print(\"Classification Report:\")\n",
        "    print(classification_report(y_test, y_pred, digits=4))\n",
        "    print(\"Confusion Matrix:\")\n",
        "    print(confusion_matrix(y_test, y_pred))\n",
        "\n",
        "print(\"\\n=== Overall Performance ===\")\n",
        "print(classification_report(all_y_true, all_y_pred, digits=4))\n",
        "print(\"Confusion Matrix:\")\n",
        "print(confusion_matrix(all_y_true, all_y_pred))\n"
      ],
      "metadata": {
        "colab": {
          "base_uri": "https://localhost:8080/"
        },
        "id": "_vzTIRacwKLu",
        "outputId": "2d63baa9-3104-4bbb-8803-f6fe7ab38807"
      },
      "execution_count": null,
      "outputs": [
        {
          "output_type": "stream",
          "name": "stdout",
          "text": [
            "\n",
            "=== Fold 1 ===\n",
            "Classification Report:\n",
            "              precision    recall  f1-score   support\n",
            "\n",
            "           0     0.4196    0.2866    0.3406       164\n",
            "           1     0.9103    0.9160    0.9131      1905\n",
            "           2     0.7111    0.7805    0.7442       410\n",
            "\n",
            "    accuracy                         0.8520      2479\n",
            "   macro avg     0.6803    0.6610    0.6660      2479\n",
            "weighted avg     0.8449    0.8520    0.8473      2479\n",
            "\n",
            "Confusion Matrix:\n",
            "[[  47   86   31]\n",
            " [  61 1745   99]\n",
            " [   4   86  320]]\n",
            "\n",
            "=== Fold 2 ===\n",
            "Classification Report:\n",
            "              precision    recall  f1-score   support\n",
            "\n",
            "           0     0.3789    0.2835    0.3243       127\n",
            "           1     0.9242    0.9113    0.9177      1927\n",
            "           2     0.6921    0.7882    0.7371       425\n",
            "\n",
            "    accuracy                         0.8580      2479\n",
            "   macro avg     0.6651    0.6610    0.6597      2479\n",
            "weighted avg     0.8565    0.8580    0.8563      2479\n",
            "\n",
            "Confusion Matrix:\n",
            "[[  36   57   34]\n",
            " [  56 1756  115]\n",
            " [   3   87  335]]\n",
            "\n",
            "=== Fold 3 ===\n",
            "Classification Report:\n",
            "              precision    recall  f1-score   support\n",
            "\n",
            "           0     0.4059    0.3015    0.3460       136\n",
            "           1     0.9285    0.9154    0.9219      1916\n",
            "           2     0.7301    0.8361    0.7795       427\n",
            "\n",
            "    accuracy                         0.8681      2479\n",
            "   macro avg     0.6882    0.6843    0.6825      2479\n",
            "weighted avg     0.8657    0.8681    0.8658      2479\n",
            "\n",
            "Confusion Matrix:\n",
            "[[  41   68   27]\n",
            " [  57 1754  105]\n",
            " [   3   67  357]]\n",
            "\n",
            "=== Fold 4 ===\n",
            "Classification Report:\n",
            "              precision    recall  f1-score   support\n",
            "\n",
            "           0     0.4078    0.2897    0.3387       145\n",
            "           1     0.9160    0.9098    0.9129      1917\n",
            "           2     0.6985    0.7909    0.7418       416\n",
            "\n",
            "    accuracy                         0.8535      2478\n",
            "   macro avg     0.6741    0.6634    0.6645      2478\n",
            "weighted avg     0.8497    0.8535    0.8505      2478\n",
            "\n",
            "Confusion Matrix:\n",
            "[[  42   75   28]\n",
            " [  59 1744  114]\n",
            " [   2   85  329]]\n",
            "\n",
            "=== Fold 5 ===\n",
            "Classification Report:\n",
            "              precision    recall  f1-score   support\n",
            "\n",
            "           0     0.5536    0.3626    0.4382       171\n",
            "           1     0.9160    0.9150    0.9155      1894\n",
            "           2     0.6941    0.7966    0.7418       413\n",
            "\n",
            "    accuracy                         0.8571      2478\n",
            "   macro avg     0.7212    0.6914    0.6985      2478\n",
            "weighted avg     0.8540    0.8571    0.8536      2478\n",
            "\n",
            "Confusion Matrix:\n",
            "[[  62   77   32]\n",
            " [  48 1733  113]\n",
            " [   2   82  329]]\n",
            "\n",
            "=== Fold 6 ===\n",
            "Classification Report:\n",
            "              precision    recall  f1-score   support\n",
            "\n",
            "           0     0.3511    0.2340    0.2809       141\n",
            "           1     0.9192    0.9073    0.9132      1930\n",
            "           2     0.6681    0.7862    0.7223       407\n",
            "\n",
            "    accuracy                         0.8491      2478\n",
            "   macro avg     0.6461    0.6425    0.6388      2478\n",
            "weighted avg     0.8456    0.8491    0.8458      2478\n",
            "\n",
            "Confusion Matrix:\n",
            "[[  33   68   40]\n",
            " [  60 1751  119]\n",
            " [   1   86  320]]\n",
            "\n",
            "=== Fold 7 ===\n",
            "Classification Report:\n",
            "              precision    recall  f1-score   support\n",
            "\n",
            "           0     0.4444    0.3117    0.3664       154\n",
            "           1     0.9243    0.9123    0.9183      1915\n",
            "           2     0.7083    0.8313    0.7649       409\n",
            "\n",
            "    accuracy                         0.8616      2478\n",
            "   macro avg     0.6924    0.6851    0.6832      2478\n",
            "weighted avg     0.8589    0.8616    0.8587      2478\n",
            "\n",
            "Confusion Matrix:\n",
            "[[  48   76   30]\n",
            " [  58 1747  110]\n",
            " [   2   67  340]]\n",
            "\n",
            "=== Fold 8 ===\n",
            "Classification Report:\n",
            "              precision    recall  f1-score   support\n",
            "\n",
            "           0     0.3302    0.2593    0.2905       135\n",
            "           1     0.9179    0.9025    0.9101      1907\n",
            "           2     0.7143    0.8142    0.7610       436\n",
            "\n",
            "    accuracy                         0.8519      2478\n",
            "   macro avg     0.6541    0.6586    0.6538      2478\n",
            "weighted avg     0.8500    0.8519    0.8501      2478\n",
            "\n",
            "Confusion Matrix:\n",
            "[[  35   76   24]\n",
            " [  68 1721  118]\n",
            " [   3   78  355]]\n",
            "\n",
            "=== Fold 9 ===\n",
            "Classification Report:\n",
            "              precision    recall  f1-score   support\n",
            "\n",
            "           0     0.3882    0.2481    0.3028       133\n",
            "           1     0.9239    0.9215    0.9227      1937\n",
            "           2     0.7223    0.8162    0.7664       408\n",
            "\n",
            "    accuracy                         0.8680      2478\n",
            "   macro avg     0.6782    0.6619    0.6640      2478\n",
            "weighted avg     0.8620    0.8680    0.8637      2478\n",
            "\n",
            "Confusion Matrix:\n",
            "[[  33   73   27]\n",
            " [  51 1785  101]\n",
            " [   1   74  333]]\n",
            "\n",
            "=== Fold 10 ===\n",
            "Classification Report:\n",
            "              precision    recall  f1-score   support\n",
            "\n",
            "           0     0.3333    0.2742    0.3009       124\n",
            "           1     0.9330    0.9104    0.9216      1942\n",
            "           2     0.7173    0.8374    0.7727       412\n",
            "\n",
            "    accuracy                         0.8664      2478\n",
            "   macro avg     0.6612    0.6740    0.6650      2478\n",
            "weighted avg     0.8671    0.8664    0.8657      2478\n",
            "\n",
            "Confusion Matrix:\n",
            "[[  34   63   27]\n",
            " [  65 1768  109]\n",
            " [   3   64  345]]\n",
            "\n",
            "=== Overall Performance ===\n",
            "              precision    recall  f1-score   support\n",
            "\n",
            "           0     0.4037    0.2874    0.3358      1430\n",
            "           1     0.9213    0.9121    0.9167     19190\n",
            "           2     0.7056    0.8078    0.7533      4163\n",
            "\n",
            "    accuracy                         0.8586     24783\n",
            "   macro avg     0.6769    0.6691    0.6686     24783\n",
            "weighted avg     0.8552    0.8586    0.8557     24783\n",
            "\n",
            "Confusion Matrix:\n",
            "[[  411   719   300]\n",
            " [  583 17504  1103]\n",
            " [   24   776  3363]]\n"
          ]
        }
      ]
    },
    {
      "cell_type": "markdown",
      "source": [
        "##Nearest Mean Classifier"
      ],
      "metadata": {
        "id": "qGfVtK2b01Bg"
      }
    },
    {
      "cell_type": "code",
      "source": [
        "def nmc_scores(x, means):\n",
        "    return np.array([\n",
        "        -np.sum((x - means[i]) ** 2)  # negative for compatibility with argmax\n",
        "        for i in range(len(means))\n",
        "    ])"
      ],
      "metadata": {
        "id": "TaPy5phdpbkN"
      },
      "execution_count": null,
      "outputs": []
    },
    {
      "cell_type": "code",
      "source": [
        "y_pred_nmc = np.array([classes[np.argmax(nmc_scores(x, means))] for x in X_test])\n",
        "\n"
      ],
      "metadata": {
        "id": "-MyQI5VlU0JC"
      },
      "execution_count": null,
      "outputs": []
    },
    {
      "cell_type": "code",
      "source": [
        "print(\"nmc Report:\\n\", classification_report(y_test, y_pred_nmc, digits=4))\n"
      ],
      "metadata": {
        "colab": {
          "base_uri": "https://localhost:8080/"
        },
        "id": "dPjzBqRIWJC4",
        "outputId": "606810f2-f353-49b5-9fcd-25ff9eb82582"
      },
      "execution_count": null,
      "outputs": [
        {
          "output_type": "stream",
          "name": "stdout",
          "text": [
            "nmc Report:\n",
            "               precision    recall  f1-score   support\n",
            "\n",
            "           0     0.2262    0.4032    0.2899       124\n",
            "           1     0.9706    0.7992    0.8766      1942\n",
            "           2     0.6033    0.9636    0.7421       412\n",
            "\n",
            "    accuracy                         0.8067      2478\n",
            "   macro avg     0.6001    0.7220    0.6362      2478\n",
            "weighted avg     0.8723    0.8067    0.8249      2478\n",
            "\n"
          ]
        }
      ]
    },
    {
      "cell_type": "code",
      "source": [
        "from sklearn.model_selection import KFold\n",
        "from sklearn.metrics import classification_report, confusion_matrix\n",
        "import numpy as np\n",
        "\n",
        "kf = KFold(n_splits=10, shuffle=True, random_state=42)\n",
        "\n",
        "all_y_true = []\n",
        "all_y_pred = []\n",
        "\n",
        "for fold, (train_index, test_index) in enumerate(kf.split(X)):\n",
        "    X_train, X_test = X[train_index], X[test_index]\n",
        "    y_train, y_test = y[train_index], y[test_index]\n",
        "\n",
        "    classes = np.unique(y_train)\n",
        "    n_classes = len(classes)\n",
        "    n_features = X_train.shape[1]\n",
        "\n",
        "    means = np.zeros((n_classes, n_features))\n",
        "    for idx, cls in enumerate(classes):\n",
        "        means[idx] = X_train[y_train == cls].mean(axis=0)\n",
        "\n",
        "    def nmc_scores(x):\n",
        "        return np.array([\n",
        "            -np.sum((x - means[i]) ** 2)\n",
        "            for i in range(n_classes)\n",
        "        ])\n",
        "\n",
        "\n",
        "    y_pred = np.array([\n",
        "        classes[np.argmax(nmc_scores(x))] for x in X_test\n",
        "    ])\n",
        "\n",
        "    all_y_true.extend(y_test)\n",
        "    all_y_pred.extend(y_pred)\n",
        "\n",
        "    print(f\"\\n=== Fold {fold+1} ===\")\n",
        "    print(\"Classification Report:\")\n",
        "    print(classification_report(y_test, y_pred, digits=4))\n",
        "    print(\"Confusion Matrix:\")\n",
        "    print(confusion_matrix(y_test, y_pred))\n",
        "\n",
        "\n",
        "print(\"\\n=== Overall Performance ===\")\n",
        "print(classification_report(all_y_true, all_y_pred, digits=4))\n",
        "print(\"Confusion Matrix:\")\n",
        "print(confusion_matrix(all_y_true, all_y_pred))\n"
      ],
      "metadata": {
        "colab": {
          "base_uri": "https://localhost:8080/"
        },
        "id": "95mOH_2pw4Z0",
        "outputId": "c420dc8a-2d95-43be-acef-24f4fd8b3d29"
      },
      "execution_count": null,
      "outputs": [
        {
          "output_type": "stream",
          "name": "stdout",
          "text": [
            "\n",
            "=== Fold 1 ===\n",
            "Classification Report:\n",
            "              precision    recall  f1-score   support\n",
            "\n",
            "           0     0.3197    0.4756    0.3824       164\n",
            "           1     0.9711    0.8110    0.8839      1905\n",
            "           2     0.6009    0.9439    0.7343       410\n",
            "\n",
            "    accuracy                         0.8108      2479\n",
            "   macro avg     0.6306    0.7435    0.6669      2479\n",
            "weighted avg     0.8668    0.8108    0.8260      2479\n",
            "\n",
            "Confusion Matrix:\n",
            "[[  78   32   54]\n",
            " [ 157 1545  203]\n",
            " [   9   14  387]]\n",
            "\n",
            "=== Fold 2 ===\n",
            "Classification Report:\n",
            "              precision    recall  f1-score   support\n",
            "\n",
            "           0     0.2278    0.4252    0.2967       127\n",
            "           1     0.9765    0.7966    0.8774      1927\n",
            "           2     0.5970    0.9412    0.7306       425\n",
            "\n",
            "    accuracy                         0.8023      2479\n",
            "   macro avg     0.6004    0.7210    0.6349      2479\n",
            "weighted avg     0.8731    0.8023    0.8225      2479\n",
            "\n",
            "Confusion Matrix:\n",
            "[[  54   25   48]\n",
            " [ 170 1535  222]\n",
            " [  13   12  400]]\n",
            "\n",
            "=== Fold 3 ===\n",
            "Classification Report:\n",
            "              precision    recall  f1-score   support\n",
            "\n",
            "           0     0.2696    0.4559    0.3388       136\n",
            "           1     0.9768    0.8116    0.8865      1916\n",
            "           2     0.6225    0.9578    0.7546       427\n",
            "\n",
            "    accuracy                         0.8173      2479\n",
            "   macro avg     0.6230    0.7418    0.6600      2479\n",
            "weighted avg     0.8769    0.8173    0.8338      2479\n",
            "\n",
            "Confusion Matrix:\n",
            "[[  62   29   45]\n",
            " [ 158 1555  203]\n",
            " [  10    8  409]]\n",
            "\n",
            "=== Fold 4 ===\n",
            "Classification Report:\n",
            "              precision    recall  f1-score   support\n",
            "\n",
            "           0     0.2661    0.4276    0.3280       145\n",
            "           1     0.9711    0.8054    0.8805      1917\n",
            "           2     0.6061    0.9543    0.7414       416\n",
            "\n",
            "    accuracy                         0.8083      2478\n",
            "   macro avg     0.6144    0.7291    0.6500      2478\n",
            "weighted avg     0.8685    0.8083    0.8248      2478\n",
            "\n",
            "Confusion Matrix:\n",
            "[[  62   39   44]\n",
            " [ 159 1544  214]\n",
            " [  12    7  397]]\n",
            "\n",
            "=== Fold 5 ===\n",
            "Classification Report:\n",
            "              precision    recall  f1-score   support\n",
            "\n",
            "           0     0.3481    0.5497    0.4263       171\n",
            "           1     0.9749    0.7999    0.8788      1894\n",
            "           2     0.6040    0.9564    0.7404       413\n",
            "\n",
            "    accuracy                         0.8087      2478\n",
            "   macro avg     0.6423    0.7687    0.6818      2478\n",
            "weighted avg     0.8698    0.8087    0.8245      2478\n",
            "\n",
            "Confusion Matrix:\n",
            "[[  94   31   46]\n",
            " [ 166 1515  213]\n",
            " [  10    8  395]]\n",
            "\n",
            "=== Fold 6 ===\n",
            "Classification Report:\n",
            "              precision    recall  f1-score   support\n",
            "\n",
            "           0     0.2332    0.3688    0.2857       141\n",
            "           1     0.9752    0.7938    0.8752      1930\n",
            "           2     0.5746    0.9656    0.7204       407\n",
            "\n",
            "    accuracy                         0.7978      2478\n",
            "   macro avg     0.5943    0.7094    0.6271      2478\n",
            "weighted avg     0.8672    0.7978    0.8162      2478\n",
            "\n",
            "Confusion Matrix:\n",
            "[[  52   29   60]\n",
            " [ 167 1532  231]\n",
            " [   4   10  393]]\n",
            "\n",
            "=== Fold 7 ===\n",
            "Classification Report:\n",
            "              precision    recall  f1-score   support\n",
            "\n",
            "           0     0.2913    0.4805    0.3627       154\n",
            "           1     0.9769    0.7953    0.8768      1915\n",
            "           2     0.5940    0.9658    0.7356       409\n",
            "\n",
            "    accuracy                         0.8039      2478\n",
            "   macro avg     0.6207    0.7472    0.6584      2478\n",
            "weighted avg     0.8711    0.8039    0.8215      2478\n",
            "\n",
            "Confusion Matrix:\n",
            "[[  74   31   49]\n",
            " [ 171 1523  221]\n",
            " [   9    5  395]]\n",
            "\n",
            "=== Fold 8 ===\n",
            "Classification Report:\n",
            "              precision    recall  f1-score   support\n",
            "\n",
            "           0     0.2533    0.4296    0.3187       135\n",
            "           1     0.9670    0.7981    0.8745      1907\n",
            "           2     0.6148    0.9518    0.7471       436\n",
            "\n",
            "    accuracy                         0.8051      2478\n",
            "   macro avg     0.6117    0.7265    0.6467      2478\n",
            "weighted avg     0.8661    0.8051    0.8218      2478\n",
            "\n",
            "Confusion Matrix:\n",
            "[[  58   42   35]\n",
            " [ 160 1522  225]\n",
            " [  11   10  415]]\n",
            "\n",
            "=== Fold 9 ===\n",
            "Classification Report:\n",
            "              precision    recall  f1-score   support\n",
            "\n",
            "           0     0.2288    0.4060    0.2927       133\n",
            "           1     0.9745    0.8100    0.8847      1937\n",
            "           2     0.6139    0.9510    0.7462       408\n",
            "\n",
            "    accuracy                         0.8115      2478\n",
            "   macro avg     0.6058    0.7223    0.6412      2478\n",
            "weighted avg     0.8751    0.8115    0.8301      2478\n",
            "\n",
            "Confusion Matrix:\n",
            "[[  54   31   48]\n",
            " [ 172 1569  196]\n",
            " [  10   10  388]]\n",
            "\n",
            "=== Fold 10 ===\n",
            "Classification Report:\n",
            "              precision    recall  f1-score   support\n",
            "\n",
            "           0     0.2262    0.4032    0.2899       124\n",
            "           1     0.9706    0.7992    0.8766      1942\n",
            "           2     0.6033    0.9636    0.7421       412\n",
            "\n",
            "    accuracy                         0.8067      2478\n",
            "   macro avg     0.6001    0.7220    0.6362      2478\n",
            "weighted avg     0.8723    0.8067    0.8249      2478\n",
            "\n",
            "Confusion Matrix:\n",
            "[[  50   39   35]\n",
            " [ 164 1552  226]\n",
            " [   7    8  397]]\n",
            "\n",
            "=== Overall Performance ===\n",
            "              precision    recall  f1-score   support\n",
            "\n",
            "           0     0.2684    0.4462    0.3352      1430\n",
            "           1     0.9734    0.8021    0.8795     19190\n",
            "           2     0.6030    0.9551    0.7392      4163\n",
            "\n",
            "    accuracy                         0.8072     24783\n",
            "   macro avg     0.6149    0.7344    0.6513     24783\n",
            "weighted avg     0.8705    0.8072    0.8245     24783\n",
            "\n",
            "Confusion Matrix:\n",
            "[[  638   328   464]\n",
            " [ 1644 15392  2154]\n",
            " [   95    92  3976]]\n"
          ]
        }
      ]
    },
    {
      "cell_type": "markdown",
      "source": [
        "##Template Matching"
      ],
      "metadata": {
        "id": "tjYnk9Du0_uX"
      }
    },
    {
      "cell_type": "code",
      "source": [
        "def template_matching_scores(x, means):\n",
        "    return np.array([\n",
        "        means[i] @ x for i in range(len(means))\n",
        "    ])"
      ],
      "metadata": {
        "id": "cgsM64xPxEFF"
      },
      "execution_count": null,
      "outputs": []
    },
    {
      "cell_type": "code",
      "source": [
        "y_pred_template = np.array([\n",
        "    classes[np.argmax(template_matching_scores(x, means))] for x in X_test\n",
        "])\n"
      ],
      "metadata": {
        "id": "bui4C6MhxVXb"
      },
      "execution_count": null,
      "outputs": []
    },
    {
      "cell_type": "code",
      "source": [
        "print(\"template Report:\\n\", classification_report(y_test, y_pred_template, digits=4))\n"
      ],
      "metadata": {
        "colab": {
          "base_uri": "https://localhost:8080/"
        },
        "id": "5N0gD9v1xbXW",
        "outputId": "8a255118-bfef-4b3c-9f57-e6c720d102f8"
      },
      "execution_count": null,
      "outputs": [
        {
          "output_type": "stream",
          "name": "stdout",
          "text": [
            "template Report:\n",
            "               precision    recall  f1-score   support\n",
            "\n",
            "           0     0.2079    0.4677    0.2878       124\n",
            "           1     0.9152    0.8836    0.8991      1942\n",
            "           2     0.8148    0.6408    0.7174       412\n",
            "\n",
            "    accuracy                         0.8224      2478\n",
            "   macro avg     0.6460    0.6640    0.6348      2478\n",
            "weighted avg     0.8631    0.8224    0.8383      2478\n",
            "\n"
          ]
        }
      ]
    },
    {
      "cell_type": "code",
      "source": [
        "from sklearn.model_selection import KFold\n",
        "from sklearn.metrics import classification_report, confusion_matrix\n",
        "import numpy as np\n",
        "\n",
        "kf = KFold(n_splits=10, shuffle=True, random_state=42)\n",
        "\n",
        "all_y_true = []\n",
        "all_y_pred = []\n",
        "\n",
        "for fold, (train_index, test_index) in enumerate(kf.split(X)):\n",
        "    X_train, X_test = X[train_index], X[test_index]\n",
        "    y_train, y_test = y[train_index], y[test_index]\n",
        "\n",
        "    classes = np.unique(y_train)\n",
        "    n_classes = len(classes)\n",
        "    n_features = X_train.shape[1]\n",
        "\n",
        "    means = np.zeros((n_classes, n_features))\n",
        "    for idx, cls in enumerate(classes):\n",
        "        means[idx] = X_train[y_train == cls].mean(axis=0)\n",
        "\n",
        "    def template_matching_scores(x):\n",
        "        return np.array([\n",
        "            means[i] @ x for i in range(n_classes)\n",
        "        ])\n",
        "\n",
        "    y_pred = np.array([\n",
        "        classes[np.argmax(template_matching_scores(x))] for x in X_test\n",
        "    ])\n",
        "\n",
        "    all_y_true.extend(y_test)\n",
        "    all_y_pred.extend(y_pred)\n",
        "\n",
        "    print(f\"\\n=== Fold {fold+1} ===\")\n",
        "    print(\"Classification Report:\")\n",
        "    print(classification_report(y_test, y_pred, digits=4))\n",
        "    print(\"Confusion Matrix:\")\n",
        "    print(confusion_matrix(y_test, y_pred))\n",
        "\n",
        "print(\"\\n=== Overall Performance ===\")\n",
        "print(classification_report(all_y_true, all_y_pred, digits=4))\n",
        "print(\"Confusion Matrix:\")\n",
        "print(confusion_matrix(all_y_true, all_y_pred))\n"
      ],
      "metadata": {
        "colab": {
          "base_uri": "https://localhost:8080/"
        },
        "id": "xNiupGELxpQt",
        "outputId": "80dbc0cf-9d5f-4f7b-fac5-37e3b4fbb8e9"
      },
      "execution_count": null,
      "outputs": [
        {
          "output_type": "stream",
          "name": "stdout",
          "text": [
            "\n",
            "=== Fold 1 ===\n",
            "Classification Report:\n",
            "              precision    recall  f1-score   support\n",
            "\n",
            "           0     0.2993    0.5183    0.3795       164\n",
            "           1     0.8977    0.8887    0.8932      1905\n",
            "           2     0.7605    0.5732    0.6537       410\n",
            "\n",
            "    accuracy                         0.8120      2479\n",
            "   macro avg     0.6525    0.6601    0.6421      2479\n",
            "weighted avg     0.8354    0.8120    0.8196      2479\n",
            "\n",
            "Confusion Matrix:\n",
            "[[  85   64   15]\n",
            " [ 153 1693   59]\n",
            " [  46  129  235]]\n",
            "\n",
            "=== Fold 2 ===\n",
            "Classification Report:\n",
            "              precision    recall  f1-score   support\n",
            "\n",
            "           0     0.2384    0.5276    0.3284       127\n",
            "           1     0.9119    0.8812    0.8963      1927\n",
            "           2     0.7917    0.6259    0.6991       425\n",
            "\n",
            "    accuracy                         0.8193      2479\n",
            "   macro avg     0.6473    0.6782    0.6413      2479\n",
            "weighted avg     0.8568    0.8193    0.8334      2479\n",
            "\n",
            "Confusion Matrix:\n",
            "[[  67   44   16]\n",
            " [ 175 1698   54]\n",
            " [  39  120  266]]\n",
            "\n",
            "=== Fold 3 ===\n",
            "Classification Report:\n",
            "              precision    recall  f1-score   support\n",
            "\n",
            "           0     0.2826    0.5735    0.3786       136\n",
            "           1     0.9114    0.8909    0.9010      1916\n",
            "           2     0.8091    0.6253    0.7054       427\n",
            "\n",
            "    accuracy                         0.8278      2479\n",
            "   macro avg     0.6677    0.6966    0.6617      2479\n",
            "weighted avg     0.8593    0.8278    0.8387      2479\n",
            "\n",
            "Confusion Matrix:\n",
            "[[  78   51    7]\n",
            " [ 153 1707   56]\n",
            " [  45  115  267]]\n",
            "\n",
            "=== Fold 4 ===\n",
            "Classification Report:\n",
            "              precision    recall  f1-score   support\n",
            "\n",
            "           0     0.2756    0.5379    0.3645       145\n",
            "           1     0.9047    0.8816    0.8930      1917\n",
            "           2     0.7706    0.6058    0.6783       416\n",
            "\n",
            "    accuracy                         0.8152      2478\n",
            "   macro avg     0.6503    0.6751    0.6453      2478\n",
            "weighted avg     0.8454    0.8152    0.8260      2478\n",
            "\n",
            "Confusion Matrix:\n",
            "[[  78   58    9]\n",
            " [ 161 1690   66]\n",
            " [  44  120  252]]\n",
            "\n",
            "=== Fold 5 ===\n",
            "Classification Report:\n",
            "              precision    recall  f1-score   support\n",
            "\n",
            "           0     0.3543    0.6257    0.4524       171\n",
            "           1     0.9122    0.8891    0.9005      1894\n",
            "           2     0.8030    0.6416    0.7133       413\n",
            "\n",
            "    accuracy                         0.8297      2478\n",
            "   macro avg     0.6899    0.7188    0.6888      2478\n",
            "weighted avg     0.8555    0.8297    0.8384      2478\n",
            "\n",
            "Confusion Matrix:\n",
            "[[ 107   57    7]\n",
            " [ 152 1684   58]\n",
            " [  43  105  265]]\n",
            "\n",
            "=== Fold 6 ===\n",
            "Classification Report:\n",
            "              precision    recall  f1-score   support\n",
            "\n",
            "           0     0.2776    0.5177    0.3614       141\n",
            "           1     0.9009    0.8860    0.8934      1930\n",
            "           2     0.7729    0.6020    0.6768       407\n",
            "\n",
            "    accuracy                         0.8184      2478\n",
            "   macro avg     0.6505    0.6686    0.6439      2478\n",
            "weighted avg     0.8444    0.8184    0.8276      2478\n",
            "\n",
            "Confusion Matrix:\n",
            "[[  73   54   14]\n",
            " [ 162 1710   58]\n",
            " [  28  134  245]]\n",
            "\n",
            "=== Fold 7 ===\n",
            "Classification Report:\n",
            "              precision    recall  f1-score   support\n",
            "\n",
            "           0     0.2817    0.5909    0.3816       154\n",
            "           1     0.9174    0.8757    0.8961      1915\n",
            "           2     0.7982    0.6381    0.7092       409\n",
            "\n",
            "    accuracy                         0.8188      2478\n",
            "   macro avg     0.6658    0.7016    0.6623      2478\n",
            "weighted avg     0.8582    0.8188    0.8333      2478\n",
            "\n",
            "Confusion Matrix:\n",
            "[[  91   54    9]\n",
            " [ 181 1677   57]\n",
            " [  51   97  261]]\n",
            "\n",
            "=== Fold 8 ===\n",
            "Classification Report:\n",
            "              precision    recall  f1-score   support\n",
            "\n",
            "           0     0.2456    0.5111    0.3317       135\n",
            "           1     0.9003    0.8762    0.8881      1907\n",
            "           2     0.8035    0.6284    0.7053       436\n",
            "\n",
            "    accuracy                         0.8128      2478\n",
            "   macro avg     0.6498    0.6719    0.6417      2478\n",
            "weighted avg     0.8476    0.8128    0.8256      2478\n",
            "\n",
            "Confusion Matrix:\n",
            "[[  69   64    2]\n",
            " [ 171 1671   65]\n",
            " [  41  121  274]]\n",
            "\n",
            "=== Fold 9 ===\n",
            "Classification Report:\n",
            "              precision    recall  f1-score   support\n",
            "\n",
            "           0     0.2269    0.4436    0.3003       133\n",
            "           1     0.9124    0.8926    0.9024      1937\n",
            "           2     0.7802    0.6176    0.6895       408\n",
            "\n",
            "    accuracy                         0.8232      2478\n",
            "   macro avg     0.6398    0.6513    0.6307      2478\n",
            "weighted avg     0.8538    0.8232    0.8350      2478\n",
            "\n",
            "Confusion Matrix:\n",
            "[[  59   59   15]\n",
            " [ 152 1729   56]\n",
            " [  49  107  252]]\n",
            "\n",
            "=== Fold 10 ===\n",
            "Classification Report:\n",
            "              precision    recall  f1-score   support\n",
            "\n",
            "           0     0.2079    0.4677    0.2878       124\n",
            "           1     0.9152    0.8836    0.8991      1942\n",
            "           2     0.8148    0.6408    0.7174       412\n",
            "\n",
            "    accuracy                         0.8224      2478\n",
            "   macro avg     0.6460    0.6640    0.6348      2478\n",
            "weighted avg     0.8631    0.8224    0.8383      2478\n",
            "\n",
            "Confusion Matrix:\n",
            "[[  58   57    9]\n",
            " [ 175 1716   51]\n",
            " [  46  102  264]]\n",
            "\n",
            "=== Overall Performance ===\n",
            "              precision    recall  f1-score   support\n",
            "\n",
            "           0     0.2701    0.5350    0.3590      1430\n",
            "           1     0.9084    0.8846    0.8963     19190\n",
            "           2     0.7907    0.6200    0.6950      4163\n",
            "\n",
            "    accuracy                         0.8200     24783\n",
            "   macro avg     0.6564    0.6798    0.6501     24783\n",
            "weighted avg     0.8518    0.8200    0.8315     24783\n",
            "\n",
            "Confusion Matrix:\n",
            "[[  765   562   103]\n",
            " [ 1635 16975   580]\n",
            " [  432  1150  2581]]\n"
          ]
        }
      ]
    },
    {
      "cell_type": "markdown",
      "source": [
        "##test a tweet"
      ],
      "metadata": {
        "id": "X3vbQomH1It5"
      }
    },
    {
      "cell_type": "code",
      "source": [
        "# test a tweet\n",
        "tweet = \"All people from ... are disgusting and shouldn't be allowed here\""
      ],
      "metadata": {
        "id": "FucTFHH1zImj"
      },
      "execution_count": null,
      "outputs": []
    },
    {
      "cell_type": "code",
      "source": [
        "\n",
        "#clan it\n",
        "def clean_text(text):\n",
        "    text = text.lower()\n",
        "    text = re.sub(r\"http\\S+|@\\S+|#[A-Za-z0-9_]+|[^a-zA-Z\\s]\", \"\", text)\n",
        "    text = re.sub(r\"\\s+\", \" \", text).strip()\n",
        "    return text\n",
        "\n",
        "tweet_cleaned = clean_text(tweet)\n",
        "\n",
        "#vectorize it\n",
        "tweet_vec = vectorizer.transform([tweet_cleaned])\n",
        "tweet_svd = svd.transform(tweet_vec)"
      ],
      "metadata": {
        "id": "sb0IimH6xx05"
      },
      "execution_count": null,
      "outputs": []
    },
    {
      "cell_type": "code",
      "source": [
        "x = tweet_svd[0]\n",
        "scores = nive_bayes(x)\n",
        "predicted_class = classes[np.argmax(scores)]\n",
        "print(f\"\\nTweet: \\\"{tweet}\\\"\")\n",
        "class_names = {0: \"Hate Speech\", 1: \"Offensive Language\", 2: \"Neither\"}\n",
        "print(f\"Predicted class (nive bayes): {predicted_class} -> {class_names[predicted_class]}\")\n"
      ],
      "metadata": {
        "colab": {
          "base_uri": "https://localhost:8080/"
        },
        "id": "ntJ0y-24WXdz",
        "outputId": "1493d4c1-1517-4910-da10-b051447525da"
      },
      "execution_count": null,
      "outputs": [
        {
          "output_type": "stream",
          "name": "stdout",
          "text": [
            "\n",
            "Tweet: \"All people from ... are disgusting and shouldn't be allowed here\"\n",
            "Predicted class (nive bayes): 1 -> Offensive Language\n"
          ]
        }
      ]
    },
    {
      "cell_type": "code",
      "source": [],
      "metadata": {
        "id": "FhhlLnYBn2xU"
      },
      "execution_count": null,
      "outputs": []
    },
    {
      "cell_type": "code",
      "source": [],
      "metadata": {
        "id": "-h0-Wic5sLiq"
      },
      "execution_count": null,
      "outputs": []
    }
  ]
}